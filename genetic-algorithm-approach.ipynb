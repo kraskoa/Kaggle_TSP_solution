{
 "cells": [
  {
   "cell_type": "markdown",
   "metadata": {
    "_uuid": "27cf045aaaced7ebba367fc93060a8b0556d24b3"
   },
   "source": [
    "In this kernel, we used sympy to get the prime cities and tried density-based clustering based on **GaussianMixture** (Thanks for JohnW's kernel). Then we tried to use **Genetic Algorithm** to find the optimized path. GA is a traditional Traveling Salesman Problem solving model. We adjusted the different parameters (cross rate, mutate rate) to see the performance of the GA."
   ]
  },
  {
   "cell_type": "code",
   "execution_count": 3,
   "metadata": {
    "_uuid": "74aa5416db69d6e30c0b1c06b01de2ddd065b2bb",
    "execution": {
     "iopub.execute_input": "2025-01-25T16:56:20.951825Z",
     "iopub.status.busy": "2025-01-25T16:56:20.951586Z",
     "iopub.status.idle": "2025-01-25T16:56:21.870354Z",
     "shell.execute_reply": "2025-01-25T16:56:21.869568Z",
     "shell.execute_reply.started": "2025-01-25T16:56:20.951781Z"
    },
    "trusted": true
   },
   "outputs": [],
   "source": [
    "import numpy as np\n",
    "import pandas as pd\n",
    "from sympy import sieve\n",
    "import matplotlib.pyplot as plt\n",
    "%matplotlib inline"
   ]
  },
  {
   "cell_type": "code",
   "execution_count": 4,
   "metadata": {
    "_uuid": "b58a4a84f3192144d63ff36124d408a74fa9379e",
    "execution": {
     "iopub.execute_input": "2025-01-25T16:56:21.872397Z",
     "iopub.status.busy": "2025-01-25T16:56:21.872019Z",
     "iopub.status.idle": "2025-01-25T16:56:22.217900Z",
     "shell.execute_reply": "2025-01-25T16:56:22.216987Z",
     "shell.execute_reply.started": "2025-01-25T16:56:21.872329Z"
    },
    "trusted": true
   },
   "outputs": [
    {
     "name": "stdout",
     "output_type": "stream",
     "text": [
      "                  X            Y\n",
      "CityId                          \n",
      "0        316.836739  2202.340707\n",
      "1       4377.405972   336.602082\n",
      "2       3454.158198  2820.053011\n",
      "(197769, 2)\n"
     ]
    }
   ],
   "source": [
    "cities = pd.read_csv(\"./data/cities.csv\", index_col=[\"CityId\"])\n",
    "print(cities.head(3))\n",
    "print(cities.shape)"
   ]
  },
  {
   "cell_type": "markdown",
   "metadata": {
    "_uuid": "713d56f9552b7a3b2e5e5ceddd056eb1a50e2417"
   },
   "source": [
    "# Prime Cities"
   ]
  },
  {
   "cell_type": "code",
   "execution_count": 5,
   "metadata": {
    "_uuid": "c15cea0f8ee7d8f46a8f8027b6698700f529351e",
    "execution": {
     "iopub.execute_input": "2025-01-25T16:56:22.219442Z",
     "iopub.status.busy": "2025-01-25T16:56:22.219145Z",
     "iopub.status.idle": "2025-01-25T16:56:22.337416Z",
     "shell.execute_reply": "2025-01-25T16:56:22.336401Z",
     "shell.execute_reply.started": "2025-01-25T16:56:22.219386Z"
    },
    "trusted": true
   },
   "outputs": [
    {
     "data": {
      "text/html": [
       "<div>\n",
       "<style scoped>\n",
       "    .dataframe tbody tr th:only-of-type {\n",
       "        vertical-align: middle;\n",
       "    }\n",
       "\n",
       "    .dataframe tbody tr th {\n",
       "        vertical-align: top;\n",
       "    }\n",
       "\n",
       "    .dataframe thead th {\n",
       "        text-align: right;\n",
       "    }\n",
       "</style>\n",
       "<table border=\"1\" class=\"dataframe\">\n",
       "  <thead>\n",
       "    <tr style=\"text-align: right;\">\n",
       "      <th></th>\n",
       "      <th>X</th>\n",
       "      <th>Y</th>\n",
       "      <th>isprime</th>\n",
       "    </tr>\n",
       "    <tr>\n",
       "      <th>CityId</th>\n",
       "      <th></th>\n",
       "      <th></th>\n",
       "      <th></th>\n",
       "    </tr>\n",
       "  </thead>\n",
       "  <tbody>\n",
       "    <tr>\n",
       "      <th>0</th>\n",
       "      <td>316.836739</td>\n",
       "      <td>2202.340707</td>\n",
       "      <td>False</td>\n",
       "    </tr>\n",
       "    <tr>\n",
       "      <th>1</th>\n",
       "      <td>4377.405972</td>\n",
       "      <td>336.602082</td>\n",
       "      <td>False</td>\n",
       "    </tr>\n",
       "    <tr>\n",
       "      <th>2</th>\n",
       "      <td>3454.158198</td>\n",
       "      <td>2820.053011</td>\n",
       "      <td>True</td>\n",
       "    </tr>\n",
       "    <tr>\n",
       "      <th>3</th>\n",
       "      <td>4688.099298</td>\n",
       "      <td>2935.898056</td>\n",
       "      <td>True</td>\n",
       "    </tr>\n",
       "    <tr>\n",
       "      <th>4</th>\n",
       "      <td>1010.696952</td>\n",
       "      <td>3236.750989</td>\n",
       "      <td>False</td>\n",
       "    </tr>\n",
       "    <tr>\n",
       "      <th>5</th>\n",
       "      <td>2474.230877</td>\n",
       "      <td>1435.514651</td>\n",
       "      <td>True</td>\n",
       "    </tr>\n",
       "    <tr>\n",
       "      <th>6</th>\n",
       "      <td>1029.277795</td>\n",
       "      <td>2721.800952</td>\n",
       "      <td>False</td>\n",
       "    </tr>\n",
       "    <tr>\n",
       "      <th>7</th>\n",
       "      <td>3408.887685</td>\n",
       "      <td>199.585793</td>\n",
       "      <td>True</td>\n",
       "    </tr>\n",
       "    <tr>\n",
       "      <th>8</th>\n",
       "      <td>1304.006125</td>\n",
       "      <td>2657.427246</td>\n",
       "      <td>False</td>\n",
       "    </tr>\n",
       "    <tr>\n",
       "      <th>9</th>\n",
       "      <td>4211.525725</td>\n",
       "      <td>2294.595208</td>\n",
       "      <td>False</td>\n",
       "    </tr>\n",
       "  </tbody>\n",
       "</table>\n",
       "</div>"
      ],
      "text/plain": [
       "                  X            Y  isprime\n",
       "CityId                                   \n",
       "0        316.836739  2202.340707    False\n",
       "1       4377.405972   336.602082    False\n",
       "2       3454.158198  2820.053011     True\n",
       "3       4688.099298  2935.898056     True\n",
       "4       1010.696952  3236.750989    False\n",
       "5       2474.230877  1435.514651     True\n",
       "6       1029.277795  2721.800952    False\n",
       "7       3408.887685   199.585793     True\n",
       "8       1304.006125  2657.427246    False\n",
       "9       4211.525725  2294.595208    False"
      ]
     },
     "execution_count": 5,
     "metadata": {},
     "output_type": "execute_result"
    }
   ],
   "source": [
    "sieve.primerange(0, cities.shape[0]) #取CityID為質數\n",
    "pnums = list(sieve.primerange(0, cities.shape[0]))\n",
    "cities['isprime'] = cities.index.isin(pnums)\n",
    "cities.head(10)"
   ]
  },
  {
   "cell_type": "markdown",
   "metadata": {
    "_uuid": "0784cc139e97f590a299789c605ed88389daa2bf"
   },
   "source": [
    "# Clustering"
   ]
  },
  {
   "cell_type": "code",
   "execution_count": 6,
   "metadata": {
    "_uuid": "83c012e871a585ea27f0837db386bfc53cc54b2f",
    "execution": {
     "iopub.execute_input": "2025-01-25T16:56:22.339169Z",
     "iopub.status.busy": "2025-01-25T16:56:22.338829Z"
    },
    "trusted": true
   },
   "outputs": [
    {
     "name": "stdout",
     "output_type": "stream",
     "text": [
      "Initialization 0\n",
      "Initialization converged.\n"
     ]
    },
    {
     "data": {
      "text/html": [
       "<div>\n",
       "<style scoped>\n",
       "    .dataframe tbody tr th:only-of-type {\n",
       "        vertical-align: middle;\n",
       "    }\n",
       "\n",
       "    .dataframe tbody tr th {\n",
       "        vertical-align: top;\n",
       "    }\n",
       "\n",
       "    .dataframe thead th {\n",
       "        text-align: right;\n",
       "    }\n",
       "</style>\n",
       "<table border=\"1\" class=\"dataframe\">\n",
       "  <thead>\n",
       "    <tr style=\"text-align: right;\">\n",
       "      <th></th>\n",
       "      <th>X</th>\n",
       "      <th>Y</th>\n",
       "      <th>isprime</th>\n",
       "      <th>mclust</th>\n",
       "    </tr>\n",
       "    <tr>\n",
       "      <th>CityId</th>\n",
       "      <th></th>\n",
       "      <th></th>\n",
       "      <th></th>\n",
       "      <th></th>\n",
       "    </tr>\n",
       "  </thead>\n",
       "  <tbody>\n",
       "    <tr>\n",
       "      <th>0</th>\n",
       "      <td>316.836739</td>\n",
       "      <td>2202.340707</td>\n",
       "      <td>False</td>\n",
       "      <td>133</td>\n",
       "    </tr>\n",
       "    <tr>\n",
       "      <th>1</th>\n",
       "      <td>4377.405972</td>\n",
       "      <td>336.602082</td>\n",
       "      <td>False</td>\n",
       "      <td>86</td>\n",
       "    </tr>\n",
       "    <tr>\n",
       "      <th>2</th>\n",
       "      <td>3454.158198</td>\n",
       "      <td>2820.053011</td>\n",
       "      <td>True</td>\n",
       "      <td>172</td>\n",
       "    </tr>\n",
       "    <tr>\n",
       "      <th>3</th>\n",
       "      <td>4688.099298</td>\n",
       "      <td>2935.898056</td>\n",
       "      <td>True</td>\n",
       "      <td>89</td>\n",
       "    </tr>\n",
       "    <tr>\n",
       "      <th>4</th>\n",
       "      <td>1010.696952</td>\n",
       "      <td>3236.750989</td>\n",
       "      <td>False</td>\n",
       "      <td>102</td>\n",
       "    </tr>\n",
       "  </tbody>\n",
       "</table>\n",
       "</div>"
      ],
      "text/plain": [
       "                  X            Y  isprime  mclust\n",
       "CityId                                           \n",
       "0        316.836739  2202.340707    False     133\n",
       "1       4377.405972   336.602082    False      86\n",
       "2       3454.158198  2820.053011     True     172\n",
       "3       4688.099298  2935.898056     True      89\n",
       "4       1010.696952  3236.750989    False     102"
      ]
     },
     "execution_count": 6,
     "metadata": {},
     "output_type": "execute_result"
    }
   ],
   "source": [
    "from sklearn.mixture import GaussianMixture\n",
    "mclusterer = GaussianMixture(n_components=350, tol=0.01, random_state=66, verbose=1) #生成350個點\n",
    "cities['mclust'] = mclusterer.fit_predict(cities[['X', 'Y']].values)\n",
    "cities.head()"
   ]
  },
  {
   "cell_type": "markdown",
   "metadata": {
    "_uuid": "42c0c16328fd45ad53b828d5aae9b9505577169c"
   },
   "source": [
    "# Cluster Centers"
   ]
  },
  {
   "cell_type": "code",
   "execution_count": 7,
   "metadata": {
    "_uuid": "e0f8af5a58c2314877a1137886c80a5bf12c5b54",
    "trusted": true
   },
   "outputs": [
    {
     "ename": "ValueError",
     "evalue": "Cannot subset columns with a tuple with more than one element. Use a list instead.",
     "output_type": "error",
     "traceback": [
      "\u001b[0;31m---------------------------------------------------------------------------\u001b[0m",
      "\u001b[0;31mValueError\u001b[0m                                Traceback (most recent call last)",
      "Cell \u001b[0;32mIn[7], line 1\u001b[0m\n\u001b[0;32m----> 1\u001b[0m centers \u001b[38;5;241m=\u001b[39m \u001b[43mcities\u001b[49m\u001b[38;5;241;43m.\u001b[39;49m\u001b[43mgroupby\u001b[49m\u001b[43m(\u001b[49m\u001b[38;5;124;43m'\u001b[39;49m\u001b[38;5;124;43mmclust\u001b[39;49m\u001b[38;5;124;43m'\u001b[39;49m\u001b[43m)\u001b[49m\u001b[43m[\u001b[49m\u001b[38;5;124;43m'\u001b[39;49m\u001b[38;5;124;43mX\u001b[39;49m\u001b[38;5;124;43m'\u001b[39;49m\u001b[43m,\u001b[49m\u001b[43m \u001b[49m\u001b[38;5;124;43m'\u001b[39;49m\u001b[38;5;124;43mY\u001b[39;49m\u001b[38;5;124;43m'\u001b[39;49m\u001b[43m]\u001b[49m\u001b[38;5;241m.\u001b[39magg(\u001b[38;5;124m'\u001b[39m\u001b[38;5;124mmean\u001b[39m\u001b[38;5;124m'\u001b[39m)\u001b[38;5;241m.\u001b[39mreset_index()\n\u001b[1;32m      2\u001b[0m centers\u001b[38;5;241m.\u001b[39mhead()\n",
      "File \u001b[0;32m~/pop/pop_projekt_24z/.venv/lib/python3.13/site-packages/pandas/core/groupby/generic.py:1947\u001b[0m, in \u001b[0;36mDataFrameGroupBy.__getitem__\u001b[0;34m(self, key)\u001b[0m\n\u001b[1;32m   1943\u001b[0m \u001b[38;5;66;03m# per GH 23566\u001b[39;00m\n\u001b[1;32m   1944\u001b[0m \u001b[38;5;28;01mif\u001b[39;00m \u001b[38;5;28misinstance\u001b[39m(key, \u001b[38;5;28mtuple\u001b[39m) \u001b[38;5;129;01mand\u001b[39;00m \u001b[38;5;28mlen\u001b[39m(key) \u001b[38;5;241m>\u001b[39m \u001b[38;5;241m1\u001b[39m:\n\u001b[1;32m   1945\u001b[0m     \u001b[38;5;66;03m# if len == 1, then it becomes a SeriesGroupBy and this is actually\u001b[39;00m\n\u001b[1;32m   1946\u001b[0m     \u001b[38;5;66;03m# valid syntax, so don't raise\u001b[39;00m\n\u001b[0;32m-> 1947\u001b[0m     \u001b[38;5;28;01mraise\u001b[39;00m \u001b[38;5;167;01mValueError\u001b[39;00m(\n\u001b[1;32m   1948\u001b[0m         \u001b[38;5;124m\"\u001b[39m\u001b[38;5;124mCannot subset columns with a tuple with more than one element. \u001b[39m\u001b[38;5;124m\"\u001b[39m\n\u001b[1;32m   1949\u001b[0m         \u001b[38;5;124m\"\u001b[39m\u001b[38;5;124mUse a list instead.\u001b[39m\u001b[38;5;124m\"\u001b[39m\n\u001b[1;32m   1950\u001b[0m     )\n\u001b[1;32m   1951\u001b[0m \u001b[38;5;28;01mreturn\u001b[39;00m \u001b[38;5;28msuper\u001b[39m()\u001b[38;5;241m.\u001b[39m\u001b[38;5;21m__getitem__\u001b[39m(key)\n",
      "\u001b[0;31mValueError\u001b[0m: Cannot subset columns with a tuple with more than one element. Use a list instead."
     ]
    }
   ],
   "source": [
    "centers = cities.groupby('mclust')[['X', 'Y']].agg('mean').reset_index()\n",
    "centers.head()"
   ]
  },
  {
   "cell_type": "code",
   "execution_count": null,
   "metadata": {
    "_uuid": "4f985b53a8f7b1400d251110040c5f8ec853604f",
    "trusted": true
   },
   "outputs": [],
   "source": [
    "df = centers.drop(\"mclust\",axis = 1) # Drop CityID\n",
    "centers_array=df.values #轉成Array\n",
    "type(centers_array)"
   ]
  },
  {
   "cell_type": "markdown",
   "metadata": {
    "_uuid": "5e8303dacdbe70e712cc06f374ba60fd0df49c58"
   },
   "source": [
    "# Model Design"
   ]
  },
  {
   "cell_type": "code",
   "execution_count": null,
   "metadata": {
    "_uuid": "9eb026a08c7e6719baa6d7accccea1ab555587ca",
    "trusted": true
   },
   "outputs": [],
   "source": [
    "class GA(object):\n",
    "    def __init__(self, DNA_size, cross_rate, mutation_rate, pop_size, ):\n",
    "        self.DNA_size = DNA_size\n",
    "        self.cross_rate = cross_rate\n",
    "        self.mutate_rate = mutation_rate\n",
    "        self.pop_size = pop_size\n",
    "        self.pop = np.vstack([np.random.permutation(DNA_size) for _ in range(pop_size)])\n",
    "        # 隨機生成 500*350 的陣列: 多維隨機打亂數列[1 2 ...], 並且沿著垂直方向堆疊\n",
    "\n",
    "    def translateDNA(self, DNA, city_position):\n",
    "        line_x = np.empty_like(DNA, dtype=np.float64)\n",
    "        line_y = np.empty_like(DNA, dtype=np.float64)\n",
    "        for i, d in enumerate(DNA):\n",
    "            city_coord = city_position[d]\n",
    "            line_x[i, :] = city_coord[:, 0]\n",
    "            line_y[i, :] = city_coord[:, 1]\n",
    "        return line_x, line_y # 生成2個 500*350 矩陣\n",
    "\n",
    "    def get_fitness(self, line_x, line_y):\n",
    "        total_distance = np.empty((line_x.shape[0],), dtype=np.float64) #創造(500,1) 隨機empty矩陣\n",
    "        for i, (xs, ys) in enumerate(zip(line_x, line_y)):              #將line_x,line_y merge為ZIP, 在分別取出index & (x,y)值\n",
    "            total_distance[i] = np.sum(np.sqrt(np.square(np.diff(xs)) + np.square(np.diff(ys)))) #算出1~500分別的總距離\n",
    "        fitness = np.exp(self.DNA_size * 22850 / 2 / total_distance) #計算fitness, DNA_Size=350 (取指數分配, 拉大x軸差距, 創造出差異性)\n",
    "        return fitness, total_distance\n",
    "\n",
    "    def select(self, fitness):\n",
    "        idx = np.random.choice(np.arange(self.pop_size), size=self.pop_size, replace=True, p=fitness / fitness.sum())\n",
    "        return self.pop[idx]\n",
    "\n",
    "    def crossover(self, parent, pop):\n",
    "        if np.random.rand() < self.cross_rate:\n",
    "            i_ = np.random.randint(0, self.pop_size, size=1)                        # select another individual from pop\n",
    "            cross_points = np.random.randint(0, 2, self.DNA_size).astype(np.bool)   # choose crossover points\n",
    "            keep_city = parent[~cross_points]                                       # find the city number\n",
    "            swap_city = pop[i_, np.isin(pop[i_].ravel(), keep_city, invert=True)]\n",
    "            parent[:] = np.concatenate((keep_city, swap_city))\n",
    "        return parent\n",
    "\n",
    "    def mutate(self, child):\n",
    "        for point in range(self.DNA_size):\n",
    "            if np.random.rand() < self.mutate_rate:\n",
    "                swap_point = np.random.randint(0, self.DNA_size)\n",
    "                swapA, swapB = child[point], child[swap_point]\n",
    "                child[point], child[swap_point] = swapB, swapA\n",
    "        return child\n",
    "\n",
    "    def evolve(self, fitness):\n",
    "        pop = self.select(fitness)\n",
    "        pop_copy = pop.copy()\n",
    "        for parent in pop:  # for every parent\n",
    "            child = self.crossover(parent, pop_copy)\n",
    "            child = self.mutate(child)\n",
    "            parent[:] = child\n",
    "        self.pop = pop"
   ]
  },
  {
   "cell_type": "code",
   "execution_count": null,
   "metadata": {
    "_uuid": "6f697c00ddc6fd9b7c2ecf0127f107b28105ea9d",
    "trusted": true
   },
   "outputs": [],
   "source": [
    "class TravelSalesPerson(object):\n",
    "    def __init__(self, n_cities):\n",
    "        #self.city_position = np.random.rand(n_cities, 2)\n",
    "        self.city_position = centers_array\n",
    "        plt.ion()\n",
    "\n",
    "    def plotting(self, lx, ly, total_d):\n",
    "        plt.cla()\n",
    "        plt.scatter(self.city_position[:, 0].T, self.city_position[:, 1].T, s=100, c='k')\n",
    "        plt.plot(lx.T, ly.T, 'r-')\n",
    "        plt.text(-400, -400, \"Total distance=%.2f\" % total_d, fontdict={'size': 20, 'color': 'red'})\n",
    "        plt.xlim((-500, 5500))\n",
    "        plt.ylim((-500, 3500))\n",
    "        plt.pause(0.01)"
   ]
  },
  {
   "cell_type": "markdown",
   "metadata": {
    "_uuid": "df8482325e4368fe2804b03c0818a5366fe268b1"
   },
   "source": [
    "# Model Training"
   ]
  },
  {
   "cell_type": "code",
   "execution_count": null,
   "metadata": {
    "_uuid": "b6f7c7233068b0c010ff3d9a00e363e1795bcc86",
    "trusted": true
   },
   "outputs": [],
   "source": [
    "N_CITIES = 350  # DNA size\n",
    "CROSS_RATE = 0.1\n",
    "MUTATE_RATE = 0.005\n",
    "POP_SIZE = 500\n",
    "N_GENERATIONS = 1000\n",
    "\n",
    "ga = GA(DNA_size=N_CITIES, cross_rate=CROSS_RATE, mutation_rate=MUTATE_RATE, pop_size=POP_SIZE)\n",
    "\n",
    "#env = cities_array\n",
    "env = TravelSalesPerson(N_CITIES) #隨機生成 N_CITIES 個點\n",
    "\n",
    "fit_list = []\n",
    "dist_list = []\n",
    "\n",
    "for generation in range(N_GENERATIONS):\n",
    "    lx, ly = ga.translateDNA(ga.pop, env.city_position) #得到500組初始座標連線 (初始解?)\n",
    "    fitness, total_distance = ga.get_fitness(lx, ly) #得到初始fitness(distance去指數分配) & 總距離長度\n",
    "    ga.evolve(fitness) #啟動基因演算法, 含交配 與 突變\n",
    "    best_idx = np.argmax(fitness) #得到演算過後的最佳值\n",
    "    fit_list.append(fitness[best_idx])\n",
    "    dist_list.append(total_distance[best_idx])\n",
    "    #print('Gen:', generation, '| best fit: %.2f' % fitness[best_idx],)\n",
    "    #print('Gen:', generation, '| total distance: %.2f' % total_distance[best_idx],)\n",
    "    # env.plotting(lx[best_idx], ly[best_idx], total_distance[best_idx]) # 劃出行軍圖與總距離長度\n",
    "\n",
    "plt.ioff()\n",
    "plt.show()"
   ]
  },
  {
   "cell_type": "code",
   "execution_count": null,
   "metadata": {
    "_uuid": "ec5d9bce6333501c1218a57d84562e0be9a36b60",
    "trusted": true
   },
   "outputs": [],
   "source": [
    "plt.figure(figsize=(10,6))\n",
    "plt.plot(fit_list,color=\"blue\", linewidth=2, linestyle=\"-\")\n",
    "plt.xlabel('generations', fontsize=12)\n",
    "plt.title(\"Fittness Trend in 1000 generations\", fontsize=14)\n",
    "plt.show()"
   ]
  },
  {
   "cell_type": "code",
   "execution_count": null,
   "metadata": {
    "_uuid": "ebcb2a929b6300ae06820fd26a93c40ac29f229a",
    "trusted": true
   },
   "outputs": [],
   "source": [
    "plt.figure(figsize=(10,6))\n",
    "plt.plot(dist_list,color=\"red\", linewidth=2, linestyle=\"-\")\n",
    "plt.xlabel('generations', fontsize=12)\n",
    "plt.title(\"Fittness Trend in 1000 generations\", fontsize=14)\n",
    "plt.show()"
   ]
  },
  {
   "cell_type": "markdown",
   "metadata": {
    "_uuid": "0f84f331b729fdf8a51e9cc3c7f459569a5c706f"
   },
   "source": [
    "The fittness gradually increased and the total distance gradually decreased. But after 800 generations, fittness has fallen into the state of global optimal. Perhaps increasing the generation can solve this problem."
   ]
  }
 ],
 "metadata": {
  "kaggle": {
   "accelerator": "none",
   "dataSources": [
    {
     "databundleVersionId": 196488,
     "sourceId": 10733,
     "sourceType": "competition"
    }
   ],
   "dockerImageVersionId": 18195,
   "isGpuEnabled": false,
   "isInternetEnabled": false,
   "language": "python",
   "sourceType": "notebook"
  },
  "kernelspec": {
   "display_name": ".venv",
   "language": "python",
   "name": "python3"
  },
  "language_info": {
   "codemirror_mode": {
    "name": "ipython",
    "version": 3
   },
   "file_extension": ".py",
   "mimetype": "text/x-python",
   "name": "python",
   "nbconvert_exporter": "python",
   "pygments_lexer": "ipython3",
   "version": "3.13.0"
  }
 },
 "nbformat": 4,
 "nbformat_minor": 4
}
